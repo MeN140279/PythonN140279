{
 "cells": [
  {
   "cell_type": "markdown",
   "metadata": {},
   "source": [
    "## Files\n",
    "#### 3 steps in files \n",
    "- open the file\n",
    "- do operation\n",
    "- close file"
   ]
  },
  {
   "cell_type": "markdown",
   "metadata": {},
   "source": [
    "### read the data boo.txt"
   ]
  },
  {
   "cell_type": "code",
   "execution_count": 15,
   "metadata": {},
   "outputs": [
    {
     "name": "stdout",
     "output_type": "stream",
     "text": [
      "line 1\n",
      "line 2\n",
      "line 3\n",
      "line 4\n"
     ]
    }
   ],
   "source": [
    "f=open('book.txt','r')\n",
    "data=f.read()\n",
    "print(data)\n",
    "f.close()"
   ]
  },
  {
   "cell_type": "markdown",
   "metadata": {},
   "source": [
    "### wrie data into mystoring .txt"
   ]
  },
  {
   "cell_type": "code",
   "execution_count": 21,
   "metadata": {},
   "outputs": [],
   "source": [
    "f=open('mystoring.txt','w')\n",
    "content='this is also my story'\n",
    "f.write(content)\n",
    "f.close()"
   ]
  },
  {
   "cell_type": "markdown",
   "metadata": {},
   "source": [
    "## append the data into mystoring.txt"
   ]
  },
  {
   "cell_type": "code",
   "execution_count": 23,
   "metadata": {},
   "outputs": [],
   "source": [
    "f=open('mystoring.txt','a')\n",
    "f1=open('book.txt','r')\n",
    "data=f1.read()\n",
    "f.write(data)\n",
    "f1.close()\n",
    "f.close()"
   ]
  },
  {
   "cell_type": "code",
   "execution_count": 30,
   "metadata": {},
   "outputs": [],
   "source": [
    "f=open('mystoring.txt','w')\n",
    "f1=open('book.txt','r')\n",
    "f.write(f1.read())\n",
    "f1.close()\n",
    "f.close()"
   ]
  },
  {
   "cell_type": "code",
   "execution_count": 36,
   "metadata": {},
   "outputs": [
    {
     "ename": "UnsupportedOperation",
     "evalue": "not readable",
     "output_type": "error",
     "traceback": [
      "\u001b[1;31m---------------------------------------------------------------------------\u001b[0m",
      "\u001b[1;31mUnsupportedOperation\u001b[0m                      Traceback (most recent call last)",
      "\u001b[1;32m<ipython-input-36-ae12fff9bf9e>\u001b[0m in \u001b[0;36m<module>\u001b[1;34m\u001b[0m\n\u001b[0;32m      1\u001b[0m \u001b[0mf\u001b[0m\u001b[1;33m=\u001b[0m\u001b[0mopen\u001b[0m\u001b[1;33m(\u001b[0m\u001b[1;34m'mystoring.txt'\u001b[0m\u001b[1;33m,\u001b[0m\u001b[1;34m'w'\u001b[0m\u001b[1;33m)\u001b[0m\u001b[1;33m\u001b[0m\u001b[1;33m\u001b[0m\u001b[0m\n\u001b[1;32m----> 2\u001b[1;33m \u001b[0mf\u001b[0m\u001b[1;33m.\u001b[0m\u001b[0mread\u001b[0m\u001b[1;33m(\u001b[0m\u001b[1;33m)\u001b[0m\u001b[1;33m\u001b[0m\u001b[1;33m\u001b[0m\u001b[0m\n\u001b[0m",
      "\u001b[1;31mUnsupportedOperation\u001b[0m: not readable"
     ]
    }
   ],
   "source": [
    "f=open('mystoring.txt','w')\n",
    "f.read()\n"
   ]
  },
  {
   "cell_type": "markdown",
   "metadata": {},
   "source": [
    "#### we can write file any times"
   ]
  },
  {
   "cell_type": "code",
   "execution_count": 44,
   "metadata": {},
   "outputs": [],
   "source": [
    "f=open('mystoring.txt','w')\n",
    "f.write('this is my story')\n",
    "f.write('this is my second story')\n",
    "f.close()\n"
   ]
  },
  {
   "cell_type": "markdown",
   "metadata": {},
   "source": [
    "### we can't read file many times \n",
    "- it returns null value"
   ]
  },
  {
   "cell_type": "code",
   "execution_count": 49,
   "metadata": {},
   "outputs": [
    {
     "name": "stdout",
     "output_type": "stream",
     "text": [
      "this is my storythis is my second story\n"
     ]
    }
   ],
   "source": [
    "f=open('mystoring.txt','r')\n",
    "data=f.read()\n",
    "f=open('mystoring.txt','r')\n",
    "data=f.read()\n",
    "print(data)\n",
    "f.close()\n"
   ]
  },
  {
   "cell_type": "code",
   "execution_count": 50,
   "metadata": {},
   "outputs": [
    {
     "name": "stdout",
     "output_type": "stream",
     "text": [
      "\n"
     ]
    }
   ],
   "source": [
    "f=open('mystoring.txt','r')\n",
    "data=f.read()\n",
    "data=f.read()\n",
    "print(data)\n",
    "f.close()\n"
   ]
  },
  {
   "cell_type": "code",
   "execution_count": 51,
   "metadata": {},
   "outputs": [
    {
     "name": "stdout",
     "output_type": "stream",
     "text": [
      "this is my storythis is my second story\n",
      "\n"
     ]
    }
   ],
   "source": [
    "f=open('mystoring.txt','r')\n",
    "data1=f.read()\n",
    "data2=f.read()\n",
    "print(data1)\n",
    "print(data)\n",
    "f.close()"
   ]
  },
  {
   "cell_type": "markdown",
   "metadata": {},
   "source": [
    "## tell()\n",
    "- it tells the current cursor position"
   ]
  },
  {
   "cell_type": "code",
   "execution_count": 54,
   "metadata": {},
   "outputs": [
    {
     "name": "stdout",
     "output_type": "stream",
     "text": [
      "cursor 0\n",
      "cursor 39\n",
      "cursor 39\n"
     ]
    }
   ],
   "source": [
    "f=open('mystoring.txt','r')\n",
    "print('cursor',f.tell())\n",
    "data=f.read()\n",
    "print('cursor',f.tell())\n",
    "data=f.read()\n",
    "print('cursor',f.tell())\n",
    "f.close()"
   ]
  },
  {
   "cell_type": "markdown",
   "metadata": {},
   "source": [
    "## seek(position)\n",
    "- move  the cursor to positon"
   ]
  },
  {
   "cell_type": "code",
   "execution_count": 57,
   "metadata": {},
   "outputs": [
    {
     "name": "stdout",
     "output_type": "stream",
     "text": [
      "cursor 39\n",
      "is my storythis is my second story\n",
      "cursor 39\n"
     ]
    }
   ],
   "source": [
    "f=open('mystoring.txt','r')\n",
    "data=f.read()\n",
    "print('cursor',f.tell())\n",
    "f.seek(5)\n",
    "data=f.read()\n",
    "print(data)\n",
    "print('cursor',f.tell())\n",
    "f.close()"
   ]
  },
  {
   "cell_type": "code",
   "execution_count": 62,
   "metadata": {},
   "outputs": [
    {
     "name": "stdout",
     "output_type": "stream",
     "text": [
      "<class 'int'>\n"
     ]
    }
   ],
   "source": [
    "f=open('mystoring.txt','a')\n",
    "print(type(f.write('appending')))\n",
    "f.close()"
   ]
  },
  {
   "cell_type": "code",
   "execution_count": 67,
   "metadata": {},
   "outputs": [],
   "source": [
    "import re\n",
    "f1=open('book.txt','r')\n",
    "f2=open('story.txt','w')\n",
    "for i in f1.read():\n",
    "    if(re.search('\\d+',i)):\n",
    "        f2.write(i+'\\n')\n",
    "f2.close()\n",
    "f1.close()"
   ]
  },
  {
   "cell_type": "code",
   "execution_count": 71,
   "metadata": {},
   "outputs": [
    {
     "name": "stdout",
     "output_type": "stream",
     "text": [
      "line 1\n",
      "\n",
      "line 2\n",
      "\n",
      "line 3\n",
      "\n",
      "line 4\n",
      "4\n"
     ]
    }
   ],
   "source": [
    "f1=open('book.txt')\n",
    "count=0\n",
    "for line in f1:\n",
    "    print(line)\n",
    "    count=count+1\n",
    "print(count)\n",
    "f1.close()"
   ]
  },
  {
   "cell_type": "code",
   "execution_count": 1,
   "metadata": {},
   "outputs": [
    {
     "name": "stdout",
     "output_type": "stream",
     "text": [
      "line 2\n",
      "\n"
     ]
    }
   ],
   "source": [
    "f=open('book.txt','r')\n",
    "line1=f.readline()\n",
    "line2=f.readline()\n",
    "print(line2)\n",
    "f.close()"
   ]
  },
  {
   "cell_type": "code",
   "execution_count": 9,
   "metadata": {},
   "outputs": [
    {
     "name": "stdout",
     "output_type": "stream",
     "text": [
      "7\n",
      "30\n",
      "\n",
      "line 2\n",
      "line 3\n",
      "line 4\n"
     ]
    }
   ],
   "source": [
    "f1=open('book.txt','r+')\n",
    "f1.write('hiiiiii')\n",
    "print(f1.tell())\n",
    "data=f1.read()\n",
    "print(f1.tell())\n",
    "print(data)\n",
    "f1.close()"
   ]
  },
  {
   "cell_type": "code",
   "execution_count": 10,
   "metadata": {},
   "outputs": [
    {
     "name": "stdout",
     "output_type": "stream",
     "text": [
      "7\n",
      "7\n",
      "\n"
     ]
    }
   ],
   "source": [
    "f1=open('book.txt','w+')\n",
    "f1.write('hiiiiii')\n",
    "print(f1.tell())\n",
    "data=f1.read()\n",
    "print(f1.tell())\n",
    "print(data)\n",
    "f1.close()"
   ]
  },
  {
   "cell_type": "code",
   "execution_count": 12,
   "metadata": {},
   "outputs": [
    {
     "name": "stdout",
     "output_type": "stream",
     "text": [
      "['line 1\\n', 'line 2\\n', 'line 3\\n', 'line 4']\n"
     ]
    }
   ],
   "source": [
    "f1=open('book.txt','r+')\n",
    "line1=f1.readline()\n",
    "line2=f1.readlines()\n",
    "print(line2)\n",
    "f1.close()"
   ]
  },
  {
   "cell_type": "code",
   "execution_count": 38,
   "metadata": {},
   "outputs": [
    {
     "name": "stdout",
     "output_type": "stream",
     "text": [
      "['cse1', 'sai', '9876543210']\n",
      "['cse2', 'ramu', '5543702543']\n",
      "['cse3', 'lakshmi', '4876546789']\n",
      "['cse4', 'ravi', '9876679999']\n"
     ]
    }
   ],
   "source": [
    "import re\n",
    "f1=open('task.txt','r')\n",
    "f2=open('report.txt','w')\n",
    "f3=open('valid.txt','w')\n",
    "f2.write(f1.readline())\n",
    "for i in f1.readlines():\n",
    "    i=i.split()\n",
    "    for j in i:\n",
    "        if(re.search('^\\d{10$}'))\n",
    "    print(i)\n",
    "f1.close()\n",
    "f2.close()"
   ]
  },
  {
   "cell_type": "code",
   "execution_count": 47,
   "metadata": {},
   "outputs": [],
   "source": [
    "import re\n",
    "f1=open('task.txt','r')\n",
    "f2=open('report.txt','w')\n",
    "f3=open('valid.txt','w')\n",
    "f2.write(f1.readline())\n",
    "for i in f1.readlines():\n",
    "    k=i.split()\n",
    "    if(re.search('^[9876]\\d{9}$',k[2])):\n",
    "        f3.write(i)\n",
    "    else:\n",
    "        f2.write(i)\n",
    "f1.close()\n",
    "f2.close()"
   ]
  },
  {
   "cell_type": "code",
   "execution_count": 1,
   "metadata": {},
   "outputs": [],
   "source": [
    "import re\n",
    "f1=open('task.txt','r')\n",
    "f2=open('report.txt','w')\n",
    "f3=open('valid.txt','w')\n",
    "firstline=f1.readline()\n",
    "f2.write(firstline)\n",
    "f3.write(firstline)\n",
    "for i in f1.readlines():\n",
    "    k=i.split()\n",
    "    flag=0\n",
    "    for j in k:\n",
    "        if(re.search('^[9876]\\d{9}$',j)):\n",
    "            flag=1\n",
    "            f3.write(i)\n",
    "    if(flag==0):\n",
    "        f2.write(i)\n",
    "f1.close()\n",
    "f2.close()"
   ]
  },
  {
   "cell_type": "markdown",
   "metadata": {},
   "source": [
    "#### T1 write the invalid numbers details into report.txt from task.txt"
   ]
  },
  {
   "cell_type": "code",
   "execution_count": 10,
   "metadata": {},
   "outputs": [],
   "source": [
    "import re\n",
    "f1=open('task.txt','r')\n",
    "f2=open('report.txt','w')\n",
    "f3=open('valid.txt','w')\n",
    "firstline=f1.readline()\n",
    "f2.write(firstline)\n",
    "f3.write(firstline)\n",
    "for i in f1:\n",
    "    if(re.search('[0-5]\\d{9}',i)):\n",
    "            f2.write(i)\n",
    "f1.close()\n",
    "f2.close()"
   ]
  },
  {
   "cell_type": "code",
   "execution_count": null,
   "metadata": {},
   "outputs": [],
   "source": []
  }
 ],
 "metadata": {
  "kernelspec": {
   "display_name": "Python 3",
   "language": "python",
   "name": "python3"
  },
  "language_info": {
   "codemirror_mode": {
    "name": "ipython",
    "version": 3
   },
   "file_extension": ".py",
   "mimetype": "text/x-python",
   "name": "python",
   "nbconvert_exporter": "python",
   "pygments_lexer": "ipython3",
   "version": "3.7.3"
  }
 },
 "nbformat": 4,
 "nbformat_minor": 2
}
