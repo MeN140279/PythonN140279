{
 "cells": [
  {
   "cell_type": "markdown",
   "metadata": {},
   "source": [
    "#### 1. write a python function to sum all the numbers in a list"
   ]
  },
  {
   "cell_type": "code",
   "execution_count": 2,
   "metadata": {},
   "outputs": [
    {
     "name": "stdout",
     "output_type": "stream",
     "text": [
      "15\n",
      "1500\n"
     ]
    }
   ],
   "source": [
    "def sumlist(a):\n",
    "    s=0\n",
    "    for i in a:\n",
    "        s=s+i\n",
    "    return s\n",
    "print(sumlist([1,2,3,4,5]))\n",
    "k=[100,200,300,400,500]\n",
    "print(sumlist(k))"
   ]
  },
  {
   "cell_type": "markdown",
   "metadata": {},
   "source": [
    "#### 2.wpf to multiply all the numbers in list"
   ]
  },
  {
   "cell_type": "code",
   "execution_count": 3,
   "metadata": {},
   "outputs": [
    {
     "name": "stdout",
     "output_type": "stream",
     "text": [
      "120\n",
      "1200000000000\n"
     ]
    }
   ],
   "source": [
    "def mullist(a):\n",
    "    s=1\n",
    "    for i in a:\n",
    "        s=s*i\n",
    "    return s\n",
    "print(mullist([1,2,3,4,5]))\n",
    "k=[100,200,300,400,500]\n",
    "print(mullist(k))"
   ]
  },
  {
   "cell_type": "markdown",
   "metadata": {},
   "source": [
    "#### 3.wpf to reverse a string"
   ]
  },
  {
   "cell_type": "code",
   "execution_count": 6,
   "metadata": {},
   "outputs": [
    {
     "name": "stdout",
     "output_type": "stream",
     "text": [
      "gnirts"
     ]
    }
   ],
   "source": [
    "def rev(s):\n",
    "    for i in range(len(s)-1,-1,-1):\n",
    "        print(s[i],end='')\n",
    "rev(\"string\")"
   ]
  },
  {
   "cell_type": "markdown",
   "metadata": {},
   "source": [
    "#### 4.check the whether the number is in a given range"
   ]
  },
  {
   "cell_type": "code",
   "execution_count": 9,
   "metadata": {},
   "outputs": [
    {
     "name": "stdout",
     "output_type": "stream",
     "text": [
      "enter a number3\n",
      "enter a lower bound1\n",
      "enter a upper bound2\n",
      "the given number is not in given range\n"
     ]
    }
   ],
   "source": [
    "def che(a,r1,r2):\n",
    "    for i in range(r1,r2):\n",
    "        if(i==a):\n",
    "            return 1\n",
    "    return \n",
    "a=int(input(\"enter a number\"))\n",
    "r1=int(input(\"enter a lower bound\"))\n",
    "r2=int(input(\"enter a upper bound\"))\n",
    "if(che(a,r1,r2)):\n",
    "    print(\"the given number is in given range\")\n",
    "else:\n",
    "    print(\"the given number is not in given range\")"
   ]
  },
  {
   "cell_type": "markdown",
   "metadata": {},
   "source": [
    "#### 5.wpf to print the even numbers from a given list"
   ]
  },
  {
   "cell_type": "code",
   "execution_count": 12,
   "metadata": {},
   "outputs": [
    {
     "name": "stdout",
     "output_type": "stream",
     "text": [
      "2\n",
      "4\n",
      "6\n"
     ]
    }
   ],
   "source": [
    "def even(a):\n",
    "    if(a%2==0):\n",
    "        return a\n",
    "    return\n",
    "a=[1,2,3,4,5,6,7]\n",
    "for i in a:\n",
    "    if(even(i)):\n",
    "        print(i)\n"
   ]
  },
  {
   "cell_type": "markdown",
   "metadata": {},
   "source": [
    "#### 6.wpf to that accepts a string and calculate the number of uppercase letters and lowercase letters"
   ]
  },
  {
   "cell_type": "code",
   "execution_count": 26,
   "metadata": {},
   "outputs": [
    {
     "name": "stdout",
     "output_type": "stream",
     "text": [
      "no of uppercase letters are 2\n",
      "no of lower case letters are 3\n"
     ]
    }
   ],
   "source": [
    "def lp(s):\n",
    "    c1=0\n",
    "    c2=0\n",
    "    for i in s:\n",
    "        if(i.isupper()):\n",
    "            c1=c1+1\n",
    "        elif(i.islower()):\n",
    "            c2=c2+1\n",
    "    return c1,c2\n",
    "k=lp(\"mEEna\")\n",
    "if(k):\n",
    "    print(\"no of uppercase letters are\",k[0])\n",
    "    print(\"no of lower case letters are\",k[1])"
   ]
  },
  {
   "cell_type": "markdown",
   "metadata": {},
   "source": [
    "#### 7. wpf that takes a list and returns new list with unique elementss\n",
    "- sample list=[1,2,3,3,3,3,4,5]\n",
    "- unique list=[1,2,3,4,5]"
   ]
  },
  {
   "cell_type": "code",
   "execution_count": 22,
   "metadata": {},
   "outputs": [
    {
     "data": {
      "text/plain": [
       "[1, 2, 3, 4, 5]"
      ]
     },
     "execution_count": 22,
     "metadata": {},
     "output_type": "execute_result"
    }
   ],
   "source": [
    "def uniq(l):\n",
    "    k=[]\n",
    "    for i in l:\n",
    "        f=0\n",
    "        for j in k:\n",
    "            if(i==j):\n",
    "                f=1\n",
    "        if(f==0):\n",
    "            k.append(i)\n",
    "    return k\n",
    "uniq([1,2,3,4,5,3,2,2,2])"
   ]
  },
  {
   "cell_type": "markdown",
   "metadata": {},
   "source": [
    "#### 8.palindrome"
   ]
  },
  {
   "cell_type": "code",
   "execution_count": 41,
   "metadata": {},
   "outputs": [
    {
     "name": "stdout",
     "output_type": "stream",
     "text": [
      "Enter a number:121\n",
      "palindrome\n"
     ]
    }
   ],
   "source": [
    "def palin(a):\n",
    "    c=0\n",
    "    while(a>0):\n",
    "        r=a%10\n",
    "        c=c*10+r\n",
    "        a=a//10\n",
    "    return c\n",
    "a=int(input(\"Enter a number:\"))\n",
    "if(a==palin(a)):\n",
    "    print(\"palindrome\")\n",
    "else:\n",
    "    print(\"not a palindrome\")"
   ]
  },
  {
   "cell_type": "markdown",
   "metadata": {},
   "source": [
    "#### 9.leap year"
   ]
  },
  {
   "cell_type": "code",
   "execution_count": 45,
   "metadata": {},
   "outputs": [
    {
     "name": "stdout",
     "output_type": "stream",
     "text": [
      "Enter a year3000\n",
      "not a leap year\n"
     ]
    }
   ],
   "source": [
    "def leap(y):\n",
    "    if(a%400==0 or (a%4==0 and a%100!=0)):\n",
    "        return 1\n",
    "    else:\n",
    "        return\n",
    "a=int(input(\"Enter a year\"))\n",
    "if(leap(a)):\n",
    "    print(\"leap year\")\n",
    "else:\n",
    "    print(\"not a leap year\")"
   ]
  },
  {
   "cell_type": "markdown",
   "metadata": {},
   "source": [
    "#### 10.count the no of digits in a given no"
   ]
  },
  {
   "cell_type": "code",
   "execution_count": 2,
   "metadata": {},
   "outputs": [
    {
     "data": {
      "text/plain": [
       "3"
      ]
     },
     "execution_count": 2,
     "metadata": {},
     "output_type": "execute_result"
    }
   ],
   "source": [
    "def digits(num):\n",
    "    c=0\n",
    "    while(num>0):\n",
    "        c=c+1\n",
    "        num=num//10\n",
    "    return c\n",
    "digits(200)"
   ]
  },
  {
   "cell_type": "markdown",
   "metadata": {},
   "source": [
    "#### 11.fun to identify the greatest of three numbers\n"
   ]
  },
  {
   "cell_type": "code",
   "execution_count": 6,
   "metadata": {},
   "outputs": [
    {
     "name": "stdout",
     "output_type": "stream",
     "text": [
      "2\n",
      "2\n",
      "2\n",
      "1\n",
      "2\n"
     ]
    }
   ],
   "source": [
    "def great(a,b,c):\n",
    "    if(a>b and a>c):\n",
    "        return a\n",
    "    elif(b>c):\n",
    "        return b\n",
    "    else:\n",
    "        return c\n",
    "print(great(2,1,2))\n",
    "print(great(1,1,2))\n",
    "print(great(2,2,1))\n",
    "print(great(1,1,1))\n",
    "print(great(1,2,1))"
   ]
  },
  {
   "cell_type": "markdown",
   "metadata": {},
   "source": [
    "#### 12.fun to return factors of a given number"
   ]
  },
  {
   "cell_type": "code",
   "execution_count": 8,
   "metadata": {},
   "outputs": [
    {
     "name": "stdout",
     "output_type": "stream",
     "text": [
      "enter a number12\n",
      "factors of given number\n",
      "1\n",
      "2\n",
      "3\n",
      "4\n",
      "6\n",
      "12\n"
     ]
    }
   ],
   "source": [
    "def fact(i,a):\n",
    "    if(a%i==0):\n",
    "        return i\n",
    "a=int(input(\"enter a number\"))\n",
    "print(\"factors of given number\")\n",
    "for i in range(1,a+1):\n",
    "    if(fact(i,a)):\n",
    "        print(fact(i,a))\n",
    "    "
   ]
  },
  {
   "cell_type": "markdown",
   "metadata": {},
   "source": [
    "#### 13.factorial of a given number"
   ]
  },
  {
   "cell_type": "code",
   "execution_count": 9,
   "metadata": {},
   "outputs": [
    {
     "data": {
      "text/plain": [
       "120"
      ]
     },
     "execution_count": 9,
     "metadata": {},
     "output_type": "execute_result"
    }
   ],
   "source": [
    "def fac(a):\n",
    "    if(a==1):\n",
    "        return 1\n",
    "    else:\n",
    "        return a*fac(a-1)\n",
    "fac(5)"
   ]
  },
  {
   "cell_type": "markdown",
   "metadata": {},
   "source": [
    "#### 14 check given number is prime or not"
   ]
  },
  {
   "cell_type": "code",
   "execution_count": 14,
   "metadata": {},
   "outputs": [
    {
     "name": "stdout",
     "output_type": "stream",
     "text": [
      "enter a number1\n",
      "not a prime number\n"
     ]
    }
   ],
   "source": [
    "def pr(a):\n",
    "    f=0\n",
    "    for i in range(1,a):\n",
    "        if(a%i==0):\n",
    "            f=f+1\n",
    "    if(f==2):\n",
    "        return 1\n",
    "    else:\n",
    "        return 0\n",
    "a=int(input(\"enter a number\"))\n",
    "if(pr(a)):\n",
    "    print(\"prime number\")\n",
    "else:\n",
    "    print(\"not a prime number\")"
   ]
  },
  {
   "cell_type": "markdown",
   "metadata": {},
   "source": [
    "#### 15.wpf to print all perfect numbers in given list"
   ]
  },
  {
   "cell_type": "code",
   "execution_count": 21,
   "metadata": {},
   "outputs": [
    {
     "name": "stdout",
     "output_type": "stream",
     "text": [
      "enter list size3\n",
      "1\n",
      "2\n",
      "6\n",
      "[1, 2, 6]\n",
      "6\n"
     ]
    }
   ],
   "source": [
    "def per(a):\n",
    "    for i in a:\n",
    "        s=0\n",
    "        for j in range(1,i):\n",
    "            if(i%j==0):\n",
    "                s=s+j\n",
    "        if(s==i):\n",
    "            print(i)\n",
    "l=int(input(\"enter list size\"))\n",
    "k=[]\n",
    "for i in range(l):\n",
    "    m=int(input())\n",
    "    k.append(m)\n",
    "print(k)\n",
    "per(k)"
   ]
  },
  {
   "cell_type": "code",
   "execution_count": 29,
   "metadata": {},
   "outputs": [
    {
     "data": {
      "text/plain": [
       "<re.Match object; span=(0, 1), match='a'>"
      ]
     },
     "execution_count": 29,
     "metadata": {},
     "output_type": "execute_result"
    }
   ],
   "source": [
    "import re\n",
    "re.search('[a,e,i,o,u]','abc12389')"
   ]
  },
  {
   "cell_type": "code",
   "execution_count": 30,
   "metadata": {},
   "outputs": [],
   "source": [
    "re.search('[a,e,i,o,u,y]','dddddd')"
   ]
  },
  {
   "cell_type": "code",
   "execution_count": 33,
   "metadata": {},
   "outputs": [
    {
     "name": "stdout",
     "output_type": "stream",
     "text": [
      "a\n"
     ]
    }
   ],
   "source": [
    "if(re.search('[A,E,I,O,U,Y]','a')):\n",
    "    print(\"d\")\n",
    "else:\n",
    "    print(\"a\")"
   ]
  },
  {
   "cell_type": "code",
   "execution_count": 34,
   "metadata": {},
   "outputs": [
    {
     "data": {
      "text/plain": [
       "1"
      ]
     },
     "execution_count": 34,
     "metadata": {},
     "output_type": "execute_result"
    }
   ],
   "source": [
    "dic={'a':1}\n",
    "len(dic)"
   ]
  },
  {
   "cell_type": "code",
   "execution_count": null,
   "metadata": {},
   "outputs": [],
   "source": []
  }
 ],
 "metadata": {
  "kernelspec": {
   "display_name": "Python 3",
   "language": "python",
   "name": "python3"
  },
  "language_info": {
   "codemirror_mode": {
    "name": "ipython",
    "version": 3
   },
   "file_extension": ".py",
   "mimetype": "text/x-python",
   "name": "python",
   "nbconvert_exporter": "python",
   "pygments_lexer": "ipython3",
   "version": "3.7.3"
  }
 },
 "nbformat": 4,
 "nbformat_minor": 2
}
