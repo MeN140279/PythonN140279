{
 "cells": [
  {
   "cell_type": "code",
   "execution_count": 22,
   "metadata": {},
   "outputs": [
    {
     "name": "stdout",
     "output_type": "stream",
     "text": [
      "asdafd asddad\n",
      "4\n",
      "NO\n"
     ]
    }
   ],
   "source": [
    "n=input().split()\n",
    "k=n[0]\n",
    "l=n[1]\n",
    "dic={}\n",
    "dic2={}\n",
    "if(len(k)==len(l)):\n",
    "    for i in k:\n",
    "        dic[i]=k.count(i)\n",
    "    for i in l:\n",
    "        dic2[i]=l.count(i)\n",
    "    count=0\n",
    "    print(len(dic))\n",
    "    for i in dic:\n",
    "        for j in dic2:\n",
    "            if(i==j):\n",
    "                if(dic[i]==dic2[j]):\n",
    "                    count=count+1\n",
    "    if(count==len(dic)):\n",
    "        print(\"YES\")\n",
    "    else:\n",
    "        print(\"NO\")\n",
    "else:\n",
    "    print(\"NO\")\n"
   ]
  },
  {
   "cell_type": "code",
   "execution_count": 13,
   "metadata": {},
   "outputs": [
    {
     "name": "stdout",
     "output_type": "stream",
     "text": [
      "2\n",
      "1\n",
      "6\n",
      "YES\n"
     ]
    }
   ],
   "source": [
    "p=int(input())\n",
    "t=int(input())\n",
    "for i in range(t):\n",
    "    k=int(input())\n",
    "    count=0\n",
    "    special=False\n",
    "    for i in range(2,k+1):\n",
    "        if(k%i==0):\n",
    "            flag=0\n",
    "            for j in range(2,i//2):\n",
    "                if(i%j==0):\n",
    "                    falg=1\n",
    "                    break\n",
    "            if(flag==0):\n",
    "                count=count+1\n",
    "                if(count>=p):\n",
    "                    special=True\n",
    "                    break\n",
    "    if(special==True):\n",
    "        print(\"YES\")\n",
    "    else:\n",
    "        print(\"NO\")"
   ]
  },
  {
   "cell_type": "code",
   "execution_count": 5,
   "metadata": {},
   "outputs": [
    {
     "name": "stdout",
     "output_type": "stream",
     "text": [
      "1\n",
      "EXIT\n",
      "\n",
      "0\n"
     ]
    }
   ],
   "source": [
    "m=0\n",
    "while(True):\n",
    "    k=input()\n",
    "    if(k==\"EXIT\"):\n",
    "        break\n",
    "    elif(int(k)%2==0):\n",
    "        print(k,end=' ')\n",
    "        if(m<int(k)):\n",
    "            m=int(k)\n",
    "print('\\n',m,sep='')"
   ]
  },
  {
   "cell_type": "code",
   "execution_count": 8,
   "metadata": {},
   "outputs": [
    {
     "name": "stdout",
     "output_type": "stream",
     "text": [
      "1\n",
      "1 3\n",
      "3 EXIT\n",
      "\n",
      "4\n"
     ]
    }
   ],
   "source": [
    "m=0\n",
    "while(True):\n",
    "    k=input()\n",
    "    if(k==\"EXIT\"):\n",
    "        break\n",
    "    elif(int(k)%2==1):\n",
    "        print(k,end=' ')\n",
    "        if(m<int(k)):\n",
    "            m=m+int(k)\n",
    "print('\\n',m,sep='')"
   ]
  },
  {
   "cell_type": "markdown",
   "metadata": {},
   "source": [
    "# functions\n",
    "1. reusability\n",
    "2. easy to debug\n",
    "###### in python we have only function calling and function definition\n",
    "- in python we define funtion usinf def keyword\n",
    "###### in python we can return any type of data or nothing"
   ]
  },
  {
   "cell_type": "code",
   "execution_count": 44,
   "metadata": {},
   "outputs": [
    {
     "data": {
      "text/plain": [
       "[5]"
      ]
     },
     "execution_count": 44,
     "metadata": {},
     "output_type": "execute_result"
    }
   ],
   "source": [
    "def add():\n",
    "    l=[]\n",
    "    c=a+b\n",
    "    l.append(c)\n",
    "    return l\n",
    "a=2\n",
    "b=3\n",
    "add()\n"
   ]
  },
  {
   "cell_type": "markdown",
   "metadata": {},
   "source": [
    "### local variable and global variable\n",
    "#### local variable:\n",
    "    - declared with in the function\n",
    "#### global variable:\n",
    "    - declared oustide of the funtion"
   ]
  },
  {
   "cell_type": "code",
   "execution_count": 46,
   "metadata": {},
   "outputs": [
    {
     "name": "stdout",
     "output_type": "stream",
     "text": [
      "20\n",
      "10\n"
     ]
    }
   ],
   "source": [
    "a=10\n",
    "def display():\n",
    "    b=20\n",
    "    print(b)\n",
    "    print(a)\n",
    "display()"
   ]
  },
  {
   "cell_type": "code",
   "execution_count": 48,
   "metadata": {},
   "outputs": [
    {
     "name": "stdout",
     "output_type": "stream",
     "text": [
      "20\n",
      "30\n"
     ]
    }
   ],
   "source": [
    "a=10\n",
    "def display():\n",
    "    b=20\n",
    "    a=30\n",
    "    print(b)\n",
    "    print(a)\n",
    "display()"
   ]
  },
  {
   "cell_type": "markdown",
   "metadata": {},
   "source": [
    "## types of Arguments in python \n",
    "1. Required arguments:\n",
    "2. Keyword arguments:\n",
    "3. Default arguments:\n",
    "4. Varaible length arguments:"
   ]
  },
  {
   "cell_type": "code",
   "execution_count": 51,
   "metadata": {},
   "outputs": [
    {
     "name": "stdout",
     "output_type": "stream",
     "text": [
      "10 20\n"
     ]
    }
   ],
   "source": [
    "#1.Requires arguments:\n",
    "def display(a,b):\n",
    "    print(a,b)\n",
    "display(10,20)"
   ]
  },
  {
   "cell_type": "code",
   "execution_count": 52,
   "metadata": {},
   "outputs": [
    {
     "name": "stdout",
     "output_type": "stream",
     "text": [
      "20 10\n"
     ]
    }
   ],
   "source": [
    "#2.keyword arguments:\n",
    "def display(a,b):\n",
    "    print(a,b)\n",
    "display(b=10,a=20)"
   ]
  },
  {
   "cell_type": "code",
   "execution_count": 74,
   "metadata": {},
   "outputs": [
    {
     "name": "stdout",
     "output_type": "stream",
     "text": [
      "Abc cse\n",
      "abc ECE\n",
      "ADSFS EEEE\n"
     ]
    }
   ],
   "source": [
    "#3.Default arguments:\n",
    "def display(name,branch=\"cse\"):\n",
    "    print(name,branch)\n",
    "display(name=\"Abc\")\n",
    "display(\"abc\",branch=\"ECE\")\n",
    "display(name=\"ADSFS\",branch=\"EEEE\")"
   ]
  },
  {
   "cell_type": "code",
   "execution_count": 75,
   "metadata": {},
   "outputs": [
    {
     "name": "stdout",
     "output_type": "stream",
     "text": [
      "(10, 20, 30)\n"
     ]
    }
   ],
   "source": [
    "def add():\n",
    "    a=10\n",
    "    b=20\n",
    "    c=a+b\n",
    "    return a,b,c\n",
    "k=add()\n",
    "print(k)"
   ]
  },
  {
   "cell_type": "code",
   "execution_count": 84,
   "metadata": {},
   "outputs": [
    {
     "name": "stdout",
     "output_type": "stream",
     "text": [
      "[2, 4, 6, 8]\n"
     ]
    }
   ],
   "source": [
    "def even(a):\n",
    "    l=[]\n",
    "    for i in range(2,a,2):\n",
    "        l.append(i)\n",
    "    return l\n",
    "print(even(10))"
   ]
  },
  {
   "cell_type": "code",
   "execution_count": 92,
   "metadata": {},
   "outputs": [
    {
     "name": "stdout",
     "output_type": "stream",
     "text": [
      "2\n",
      "4\n",
      "6\n",
      "8\n",
      "10\n",
      "30\n"
     ]
    }
   ],
   "source": [
    "def even(a):\n",
    "    if(a%2==0):\n",
    "        return 1\n",
    "    else:\n",
    "        return\n",
    "so=0\n",
    "for i in range(1,11):\n",
    "    if(even(i)):\n",
    "        so=so+i\n",
    "        print(i)\n",
    "print(so)"
   ]
  },
  {
   "cell_type": "code",
   "execution_count": 97,
   "metadata": {},
   "outputs": [
    {
     "name": "stdout",
     "output_type": "stream",
     "text": [
      "enter a lower bound2\n",
      "enter a lower bound20\n",
      "90\n"
     ]
    }
   ],
   "source": [
    "def even(a,b):\n",
    "    so=0\n",
    "    for i in range(a,b):\n",
    "        if(i%2==0):\n",
    "            so=so+i\n",
    "    return so\n",
    "n=int(input(\"enter a lower bound\"))\n",
    "s=int(input(\"enter a lower bound\"))\n",
    "print(even(n,s))"
   ]
  },
  {
   "cell_type": "code",
   "execution_count": null,
   "metadata": {},
   "outputs": [],
   "source": []
  }
 ],
 "metadata": {
  "kernelspec": {
   "display_name": "Python 3",
   "language": "python",
   "name": "python3"
  },
  "language_info": {
   "codemirror_mode": {
    "name": "ipython",
    "version": 3
   },
   "file_extension": ".py",
   "mimetype": "text/x-python",
   "name": "python",
   "nbconvert_exporter": "python",
   "pygments_lexer": "ipython3",
   "version": "3.7.3"
  }
 },
 "nbformat": 4,
 "nbformat_minor": 2
}
